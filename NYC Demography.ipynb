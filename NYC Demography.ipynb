{
 "cells": [
  {
   "cell_type": "code",
   "execution_count": 1,
   "metadata": {
    "ExecuteTime": {
     "end_time": "2020-08-10T18:30:54.732915Z",
     "start_time": "2020-08-10T18:30:54.307914Z"
    }
   },
   "outputs": [],
   "source": [
    "import pandas as pd "
   ]
  },
  {
   "cell_type": "code",
   "execution_count": 2,
   "metadata": {
    "ExecuteTime": {
     "end_time": "2020-08-10T18:31:01.416800Z",
     "start_time": "2020-08-10T18:30:55.331929Z"
    }
   },
   "outputs": [],
   "source": [
    "demo=pd.read_excel('dataset/demo.xlsx')\n",
    "eco=pd.read_excel('dataset/economic.xlsx')\n",
    "social=pd.read_excel('dataset/social.xlsx')"
   ]
  },
  {
   "cell_type": "code",
   "execution_count": 3,
   "metadata": {
    "ExecuteTime": {
     "end_time": "2020-08-10T18:31:02.527740Z",
     "start_time": "2020-08-10T18:31:02.517760Z"
    }
   },
   "outputs": [
    {
     "data": {
      "text/plain": [
       "Index(['GeoType', 'GeogName', 'GeoID', 'Borough', 'Pop_1E', 'Pop_1M', 'Pop_1C',\n",
       "       'Pop_1P', 'Pop_1Z', 'MaleE',\n",
       "       ...\n",
       "       'AsnOAsnE', 'AsnOAsnM', 'AsnOAsnC', 'AsnOAsnP', 'AsnOAsnZ', 'Asn2plE',\n",
       "       'Asn2plM', 'Asn2plC', 'Asn2plP', 'Asn2plZ'],\n",
       "      dtype='object', length=484)"
      ]
     },
     "execution_count": 3,
     "metadata": {},
     "output_type": "execute_result"
    }
   ],
   "source": [
    "demo.columns"
   ]
  },
  {
   "cell_type": "markdown",
   "metadata": {},
   "source": [
    "**Interpretation**\n",
    " "
   ]
  },
  {
   "cell_type": "code",
   "execution_count": 4,
   "metadata": {
    "ExecuteTime": {
     "end_time": "2020-08-10T18:31:04.842742Z",
     "start_time": "2020-08-10T18:31:04.835741Z"
    }
   },
   "outputs": [
    {
     "name": "stdout",
     "output_type": "stream",
     "text": [
      "(195, 484)\n",
      "(195, 659)\n",
      "(195, 2729)\n"
     ]
    }
   ],
   "source": [
    "print (demo.shape)\n",
    "print (eco.shape)\n",
    "print (social.shape)"
   ]
  },
  {
   "cell_type": "code",
   "execution_count": 5,
   "metadata": {
    "ExecuteTime": {
     "end_time": "2020-08-10T18:31:06.493421Z",
     "start_time": "2020-08-10T18:31:06.366096Z"
    }
   },
   "outputs": [],
   "source": [
    "#Merging demo with eco\n",
    "merged = pd.merge(left=demo, right=eco, how='left', left_on='GeoID' , right_on='GeoID')"
   ]
  },
  {
   "cell_type": "code",
   "execution_count": 6,
   "metadata": {
    "ExecuteTime": {
     "end_time": "2020-08-10T18:31:08.389161Z",
     "start_time": "2020-08-10T18:31:07.077109Z"
    }
   },
   "outputs": [],
   "source": [
    "#Merging demo, eco and social\n",
    "merged = pd.merge(left=merged, right=social, how='left', left_on='GeoID' , right_on='GeoID')"
   ]
  },
  {
   "cell_type": "code",
   "execution_count": 7,
   "metadata": {
    "ExecuteTime": {
     "end_time": "2020-08-10T18:31:09.099097Z",
     "start_time": "2020-08-10T18:31:09.095097Z"
    }
   },
   "outputs": [
    {
     "data": {
      "text/plain": [
       "Index(['GeoType_x', 'GeogName_x', 'GeoID', 'Borough_x', 'Pop_1E', 'Pop_1M',\n",
       "       'Pop_1C', 'Pop_1P', 'Pop_1Z', 'MaleE',\n",
       "       ...\n",
       "       'HHCompE', 'HHCompM', 'HHCompC', 'HHCompP', 'HHCompZ', 'HHIntE',\n",
       "       'HHIntM', 'HHIntC', 'HHIntP', 'HHIntZ'],\n",
       "      dtype='object', length=3870)"
      ]
     },
     "execution_count": 7,
     "metadata": {},
     "output_type": "execute_result"
    }
   ],
   "source": [
    "merged.columns"
   ]
  },
  {
   "cell_type": "code",
   "execution_count": null,
   "metadata": {},
   "outputs": [],
   "source": [
    "GeoType\n",
    "GeoID\n",
    "Borough\n",
    "Pop_1E\n",
    "MaleE\n",
    "FemE\n",
    "MdAgeE\n",
    "MnHHIncE\n",
    "EA_LTHSGrE\n",
    "EA_BchDHE\n",
    "NtvE\n",
    "Fb1E\n",
    "\n",
    "\n",
    "\n",
    "\n",
    "\n",
    "\n"
   ]
  },
  {
   "cell_type": "code",
   "execution_count": 109,
   "metadata": {
    "ExecuteTime": {
     "end_time": "2020-06-29T06:10:56.535135Z",
     "start_time": "2020-06-29T06:10:56.519563Z"
    }
   },
   "outputs": [],
   "source": [
    "filter=pd.read_clipboard(names=[\"code\"],header=None)"
   ]
  },
  {
   "cell_type": "code",
   "execution_count": 110,
   "metadata": {
    "ExecuteTime": {
     "end_time": "2020-06-29T06:10:56.984034Z",
     "start_time": "2020-06-29T06:10:56.968362Z"
    }
   },
   "outputs": [],
   "source": [
    "filter=filter.code.to_list()"
   ]
  },
  {
   "cell_type": "code",
   "execution_count": 111,
   "metadata": {
    "ExecuteTime": {
     "end_time": "2020-06-29T06:10:57.370219Z",
     "start_time": "2020-06-29T06:10:57.354665Z"
    }
   },
   "outputs": [],
   "source": [
    "filter_master=filter.copy()"
   ]
  },
  {
   "cell_type": "code",
   "execution_count": 112,
   "metadata": {
    "ExecuteTime": {
     "end_time": "2020-06-29T06:10:57.871664Z",
     "start_time": "2020-06-29T06:10:57.856004Z"
    }
   },
   "outputs": [
    {
     "name": "stdout",
     "output_type": "stream",
     "text": [
      "['GeoType', 'GeoID', 'Borough', 'Pop_1E', 'MaleE', 'FemE', 'MdAgeE', 'MnHHIncE', 'EA_LTHSGrE', 'EA_BchDHE', 'NtvE', 'Fb1E']\n"
     ]
    }
   ],
   "source": [
    "print(filter_master)"
   ]
  },
  {
   "cell_type": "code",
   "execution_count": 113,
   "metadata": {
    "ExecuteTime": {
     "end_time": "2020-06-29T06:10:59.891816Z",
     "start_time": "2020-06-29T06:10:59.829365Z"
    }
   },
   "outputs": [],
   "source": [
    "nyc_demo_df=merged[filter_master].copy()"
   ]
  },
  {
   "cell_type": "code",
   "execution_count": 114,
   "metadata": {
    "ExecuteTime": {
     "end_time": "2020-06-29T06:11:02.083798Z",
     "start_time": "2020-06-29T06:11:02.068113Z"
    }
   },
   "outputs": [
    {
     "data": {
      "text/plain": [
       "(195, 12)"
      ]
     },
     "execution_count": 114,
     "metadata": {},
     "output_type": "execute_result"
    }
   ],
   "source": [
    "nyc_demo_df.shape"
   ]
  },
  {
   "cell_type": "code",
   "execution_count": 115,
   "metadata": {
    "ExecuteTime": {
     "end_time": "2020-06-29T06:11:04.420852Z",
     "start_time": "2020-06-29T06:11:04.405227Z"
    }
   },
   "outputs": [],
   "source": [
    "nyc_demo_df.reset_index(drop=True, inplace=True)"
   ]
  },
  {
   "cell_type": "code",
   "execution_count": 116,
   "metadata": {
    "ExecuteTime": {
     "end_time": "2020-06-29T06:11:09.691037Z",
     "start_time": "2020-06-29T06:11:09.659794Z"
    }
   },
   "outputs": [],
   "source": [
    "nyc_demo_df.to_csv('dataset/nyc_demo_df.csv')"
   ]
  },
  {
   "cell_type": "code",
   "execution_count": null,
   "metadata": {},
   "outputs": [],
   "source": []
  }
 ],
 "metadata": {
  "kernelspec": {
   "display_name": "Python 3",
   "language": "python",
   "name": "python3"
  },
  "language_info": {
   "codemirror_mode": {
    "name": "ipython",
    "version": 3
   },
   "file_extension": ".py",
   "mimetype": "text/x-python",
   "name": "python",
   "nbconvert_exporter": "python",
   "pygments_lexer": "ipython3",
   "version": "3.7.6"
  },
  "toc": {
   "base_numbering": 1,
   "nav_menu": {},
   "number_sections": true,
   "sideBar": true,
   "skip_h1_title": false,
   "title_cell": "Table of Contents",
   "title_sidebar": "Contents",
   "toc_cell": false,
   "toc_position": {},
   "toc_section_display": true,
   "toc_window_display": false
  }
 },
 "nbformat": 4,
 "nbformat_minor": 4
}
