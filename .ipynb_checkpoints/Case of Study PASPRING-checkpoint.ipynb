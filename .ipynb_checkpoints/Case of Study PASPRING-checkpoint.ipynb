{
 "cells": [
  {
   "cell_type": "markdown",
   "metadata": {},
   "source": [
    "<p><em>Case of Study:</em></p>\n",
    "<h1 style=\"text-align: center;\"><strong>Location, Location and Location: A Machine Learning approach to choose location for a new business in NYC.</strong></h1>\n",
    "<p style=\"text-align: center;\"><em>Author: P.A. Spring</em></p>\n",
    "<p style=\"text-align: center;\"><em>Applied Data Science Capstone </em></p>\n",
    "<div class=\"rc-CourseNameHeader vertical-box styleguide\" style=\"text-align: center;\"><em><span id=\"partner-names-description\" class=\"body-1-text\">by IBM</span></em></div>"
   ]
  },
  {
   "cell_type": "markdown",
   "metadata": {
    "toc": true
   },
   "source": [
    "<h1>Table of Contents<span class=\"tocSkip\"></span></h1>\n",
    "<div class=\"toc\"><ul class=\"toc-item\"><li><span><a href=\"#I.-Introduction.\" data-toc-modified-id=\"I.-Introduction.-1\">I. Introduction.</a></span></li><li><span><a href=\"#II.-Data.\" data-toc-modified-id=\"II.-Data.-2\">II. Data.</a></span></li></ul></div>"
   ]
  },
  {
   "cell_type": "markdown",
   "metadata": {},
   "source": [
    "Abstract:"
   ]
  },
  {
   "cell_type": "markdown",
   "metadata": {},
   "source": [
    "<h2>I. Introduction.</h2>\n",
    "<p>Without doubt choosing the right location for a new business is one of the most crucial steps in the life of a project. Determine which factor have to be taken in consideration is core to solve this problem. Our case of study is centered in one of the business with the highest rate of failures within a year of operation , the small and mid restaurants, this enterprise have percentages of failure of around the 26% within a year. This is why for restaurants owners and entrepreneurs is decisive to identify how different variables are related with the success or failure of his business.\n",
    "\n",
    "The goal of this work is to developed a machine learning model with the objective of predict and describe how the right location influence the success or failure of a restaurant. Specifically, we are going to analyze the restaurants distribution around the neighborhoods of New York City using foursquare, google and opencity data. The target audience for this study will be restaurants owners, entrepreneurs and researchers</p>\n"
   ]
  },
  {
   "cell_type": "markdown",
   "metadata": {},
   "source": [
    "<h2>II. Data.</h2>\n",
    "\n",
    "With the objective of predict how the location influence in the success or failure of a small/mid restaurant in the neighborhoods of New York City we are going to collect data from different sources. In the following lines is a description of all the necessary data for our project.\n",
    "\n",
    "- **Restaurant descriptions:** it is necessary to create a database with restaurants around the city of NY, with information about geo-location, name, address, type of restaurant, average rating ,customers reviews and level of price. For this we will need to get the data from the foursquare api and complementary information from the google maps api.\n",
    "\n",
    "- **Geo-location data from the neighborhoods of the city:** Every neighborhood of the city has relevant and useful information for our case of study. For this we need the planning data of the city, in a geojson file with the geometry of every neighborhoods, with the specific name, codes and boroughs. This data will be extracted from the NYC data site.\n",
    "\n",
    "- **Information about point of interest around the selected restaurants:** In the NYC data site we can find different kind of locations of interest a round the city, how college, schools, touristic points and metro stations. This kind of places and them closeness with the restaurants could be in some way related with the success or failure of them, because of that we will try to include them in the analysis.\n",
    "\n",
    "\n",
    "- **Description of the groups of people living in the neighborhoods of the city:** Demographic data is another important source of information for this study, some researches point at some specific demography characteristics around the success of a small restaurant, because of this we will use the demographic information of the neighborhoods of the city as: average age, income, education level. All this information is available in the census2020 website.\n",
    "\n",
    "\n"
   ]
  },
  {
   "cell_type": "markdown",
   "metadata": {},
   "source": [
    "III. Methodology \n"
   ]
  },
  {
   "cell_type": "markdown",
   "metadata": {},
   "source": [
    "IV. Results \n",
    "\n"
   ]
  },
  {
   "cell_type": "markdown",
   "metadata": {},
   "source": [
    "V. Discussion \n",
    "\n"
   ]
  },
  {
   "cell_type": "markdown",
   "metadata": {},
   "source": [
    "VI.Conclusion \n",
    "\n"
   ]
  },
  {
   "cell_type": "markdown",
   "metadata": {},
   "source": [
    "VII. References"
   ]
  },
  {
   "cell_type": "markdown",
   "metadata": {},
   "source": [
    "Appendix"
   ]
  }
 ],
 "metadata": {
  "kernelspec": {
   "display_name": "Python 3",
   "language": "python",
   "name": "python3"
  },
  "language_info": {
   "codemirror_mode": {
    "name": "ipython",
    "version": 3
   },
   "file_extension": ".py",
   "mimetype": "text/x-python",
   "name": "python",
   "nbconvert_exporter": "python",
   "pygments_lexer": "ipython3",
   "version": "3.7.6"
  },
  "toc": {
   "base_numbering": 1,
   "nav_menu": {},
   "number_sections": false,
   "sideBar": true,
   "skip_h1_title": true,
   "title_cell": "Table of Contents",
   "title_sidebar": "Contents",
   "toc_cell": true,
   "toc_position": {},
   "toc_section_display": true,
   "toc_window_display": true
  }
 },
 "nbformat": 4,
 "nbformat_minor": 4
}
