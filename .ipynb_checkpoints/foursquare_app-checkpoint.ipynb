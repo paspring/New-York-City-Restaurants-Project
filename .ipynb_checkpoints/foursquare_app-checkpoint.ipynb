{
 "cells": [
  {
   "cell_type": "code",
   "execution_count": 1,
   "metadata": {
    "ExecuteTime": {
     "end_time": "2020-06-25T23:25:28.851004Z",
     "start_time": "2020-06-25T23:25:27.748563Z"
    }
   },
   "outputs": [],
   "source": [
    "import requests # library to handle requests\n",
    "import numpy as np # library to handle data in a vectorized manner\n",
    "import random # library for random number generation\n",
    "\n",
    "#!conda install -c conda-forge geopy --yes \n",
    "from geopy.geocoders import Nominatim # module to convert an address into latitude and longitude values\n",
    "\n",
    "# libraries for displaying images\n",
    "from IPython.display import Image \n",
    "from IPython.core.display import HTML \n",
    "    \n",
    "# tranforming json file into a pandas dataframe library\n",
    "from pandas.io.json import json_normalize\n",
    "import pandas as pd \n",
    "import json"
   ]
  },
  {
   "cell_type": "code",
   "execution_count": 3,
   "metadata": {
    "ExecuteTime": {
     "end_time": "2020-06-25T23:25:34.889450Z",
     "start_time": "2020-06-25T23:25:34.757649Z"
    }
   },
   "outputs": [],
   "source": [
    "foursquare=pd.read_csv(\"foursquare_with_rating.csv\",index_col=0)"
   ]
  },
  {
   "cell_type": "code",
   "execution_count": 4,
   "metadata": {
    "ExecuteTime": {
     "end_time": "2020-06-25T23:25:45.255380Z",
     "start_time": "2020-06-25T23:25:45.226156Z"
    }
   },
   "outputs": [],
   "source": [
    "#brianfeldman\n",
    "CLIENT_ID = 'LPY3HLVBWQP0KEA0LDOH2SBBWL3HPNNFRRDBYA0WCXVLKSO5' # your Foursquare ID\n",
    "CLIENT_SECRET = 'VNQJXLWZAA0MP2TAAY0FYVNJKCALIJEYQ44NRI3MOXMFZQLH' # your Foursquare Secret"
   ]
  },
  {
   "cell_type": "code",
   "execution_count": 5,
   "metadata": {
    "ExecuteTime": {
     "end_time": "2020-06-25T23:25:46.514502Z",
     "start_time": "2020-06-25T23:25:46.486843Z"
    }
   },
   "outputs": [
    {
     "name": "stdout",
     "output_type": "stream",
     "text": [
      "Your credentails:\n",
      "CLIENT_ID: LPY3HLVBWQP0KEA0LDOH2SBBWL3HPNNFRRDBYA0WCXVLKSO5\n",
      "CLIENT_SECRET:VNQJXLWZAA0MP2TAAY0FYVNJKCALIJEYQ44NRI3MOXMFZQLH\n"
     ]
    }
   ],
   "source": [
    "VERSION = '20180605' # Foursquare API version\n",
    "LIMIT=10\n",
    "print('Your credentails:')\n",
    "print('CLIENT_ID: ' + CLIENT_ID)\n",
    "print('CLIENT_SECRET:' + CLIENT_SECRET)"
   ]
  },
  {
   "cell_type": "code",
   "execution_count": 6,
   "metadata": {
    "ExecuteTime": {
     "end_time": "2020-06-25T23:25:48.650259Z",
     "start_time": "2020-06-25T23:25:48.180689Z"
    }
   },
   "outputs": [],
   "source": [
    "for i,ids in zip(foursquare.index,foursquare.id):\n",
    "    \n",
    "    if foursquare.Re_categorie.loc[i]==\"\":\n",
    "        venue_id = ids\n",
    "        url = 'https://api.foursquare.com/v2/venues/{}?client_id={}&client_secret={}&v={}'.format(venue_id, CLIENT_ID, CLIENT_SECRET, VERSION)\n",
    "        result = requests.get(url).json()\n",
    "        ind=foursquare[foursquare.id==ids].index\n",
    "\n",
    "        try:\n",
    "            r=result['response']['venue']['rating']\n",
    "            foursquare.loc[ind,\"Rating\"]=r\n",
    "        except:\n",
    "            pass\n",
    "\n",
    "        try:\n",
    "            cn=result['response']['venue']['categories'][0]['name']\n",
    "            foursquare.loc[ind,\"Re_categorie\"]=cn\n",
    "        except:\n",
    "            pass\n",
    "\n",
    "        try:\n",
    "            cs=result['response']['venue']['categories'][0]['shortName']\n",
    "            foursquare.loc[ind,\"Categorie_short\"]=cs\n",
    "        except:\n",
    "            pass\n",
    "\n",
    "        try:\n",
    "            l=result['response']['venue']['likes']['count']\n",
    "            foursquare.loc[ind,\"Likes\"]=l\n",
    "        except:\n",
    "            pass\n",
    "\n",
    "        try:\n",
    "            p=result['response']['venue']['price']['tier']\n",
    "            foursquare.loc[ind,\"Price\"]=p\n",
    "        except:\n",
    "            pass\n",
    "\n",
    "        try:\n",
    "            sr=result['response']['venue']['ratingSignals']\n",
    "            foursquare.loc[ind,\"Rating_signalrating\"]=sr\n",
    "        except:\n",
    "            pass\n",
    "\n",
    "        try:\n",
    "            dl=result['response']['venue']['dislikes']\n",
    "            foursquare.loc[ind,\"Dislikes\"]=dl\n",
    "        except:\n",
    "            pass\n",
    "\n",
    "        try:\n",
    "            ts=result['response']['venue']['tips']['count']\n",
    "            foursquare.loc[ind,\"Tips\"]=ts\n",
    "        except:\n",
    "             pass\n",
    "\n",
    "        print(i,str(ids))\n",
    "        if i%50==0:\n",
    "            foursquare.to_csv(\"foursquare_with_rating.csv\")"
   ]
  },
  {
   "cell_type": "code",
   "execution_count": null,
   "metadata": {},
   "outputs": [],
   "source": []
  }
 ],
 "metadata": {
  "kernelspec": {
   "display_name": "Python 3",
   "language": "python",
   "name": "python3"
  },
  "language_info": {
   "codemirror_mode": {
    "name": "ipython",
    "version": 3
   },
   "file_extension": ".py",
   "mimetype": "text/x-python",
   "name": "python",
   "nbconvert_exporter": "python",
   "pygments_lexer": "ipython3",
   "version": "3.7.6"
  },
  "toc": {
   "base_numbering": 1,
   "nav_menu": {},
   "number_sections": true,
   "sideBar": true,
   "skip_h1_title": false,
   "title_cell": "Table of Contents",
   "title_sidebar": "Contents",
   "toc_cell": false,
   "toc_position": {},
   "toc_section_display": true,
   "toc_window_display": false
  }
 },
 "nbformat": 4,
 "nbformat_minor": 4
}
