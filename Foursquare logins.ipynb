{
 "cells": [
  {
   "cell_type": "code",
   "execution_count": 1,
   "metadata": {
    "ExecuteTime": {
     "end_time": "2020-06-26T03:19:41.714079Z",
     "start_time": "2020-06-26T03:19:41.096671Z"
    }
   },
   "outputs": [],
   "source": [
    "import pandas as pd "
   ]
  },
  {
   "cell_type": "code",
   "execution_count": 6,
   "metadata": {
    "ExecuteTime": {
     "end_time": "2020-06-26T03:24:21.989761Z",
     "start_time": "2020-06-26T03:24:21.974166Z"
    }
   },
   "outputs": [],
   "source": [
    "login=pd.DataFrame(columns=['user','CLIENT_ID','CLIENT_SECRET'])\n"
   ]
  },
  {
   "cell_type": "code",
   "execution_count": 9,
   "metadata": {
    "ExecuteTime": {
     "end_time": "2020-06-26T03:27:56.088397Z",
     "start_time": "2020-06-26T03:27:56.041486Z"
    }
   },
   "outputs": [],
   "source": [
    "user='roshangrewal'\n",
    "CLIENT_ID = 'DPBYY4JUY3DU20ALPSUV4ONY2K1GOJJKJ1NIHBB32XEMOVYY' \n",
    "CLIENT_SECRET = '1MV443TYEP4HUO0WDUW5NQ5W10L2Y4G05NWG11WIR3NUGC5B'\n",
    "login= login.append({'user':user,'CLIENT_ID':CLIENT_ID,'CLIENT_SECRET':CLIENT_SECRET}, ignore_index=True)"
   ]
  },
  {
   "cell_type": "code",
   "execution_count": 10,
   "metadata": {
    "ExecuteTime": {
     "end_time": "2020-06-26T03:30:18.069910Z",
     "start_time": "2020-06-26T03:30:18.038736Z"
    }
   },
   "outputs": [],
   "source": [
    "user='SriTheBest'\n",
    "CLIENT_ID = '5U3TMEQPDF03D2I3IDMAB2Z1LLGCRPLCJ5PCBHO0A0VDAAPJ' # your Foursquare ID\n",
    "CLIENT_SECRET = 'RAU45UIVA4FHNWJUPVZPC4WVARHJU15VKS4RDRACSRZHTFAW' # your Foursquare Secret\n",
    "login= login.append({'user':user,'CLIENT_ID':CLIENT_ID,'CLIENT_SECRET':CLIENT_SECRET}, ignore_index=True)"
   ]
  },
  {
   "cell_type": "code",
   "execution_count": 11,
   "metadata": {
    "ExecuteTime": {
     "end_time": "2020-06-26T03:30:18.802374Z",
     "start_time": "2020-06-26T03:30:18.786721Z"
    }
   },
   "outputs": [],
   "source": [
    "user='brianfeldman'\n",
    "CLIENT_ID = 'LPY3HLVBWQP0KEA0LDOH2SBBWL3HPNNFRRDBYA0WCXVLKSO5' # your Foursquare ID\n",
    "CLIENT_SECRET = 'VNQJXLWZAA0MP2TAAY0FYVNJKCALIJEYQ44NRI3MOXMFZQLH' # your Foursquare Secret\n",
    "login= login.append({'user':user,'CLIENT_ID':CLIENT_ID,'CLIENT_SECRET':CLIENT_SECRET}, ignore_index=True)"
   ]
  },
  {
   "cell_type": "code",
   "execution_count": 12,
   "metadata": {
    "ExecuteTime": {
     "end_time": "2020-06-26T03:30:19.341008Z",
     "start_time": "2020-06-26T03:30:19.325382Z"
    }
   },
   "outputs": [],
   "source": [
    "user=\"xx\"\n",
    "CLIENT_ID = 'WPTSXRBGDLUULN1OWDRCQUAE3KIEDUNMQM5AW5Q0DH5UCCAY' # your Foursquare ID\n",
    "CLIENT_SECRET = 'TR4030IUWOWEHNIZCT0EQGVC2BMLZV35KSHH404AAWSMFXAU' # your Foursquare Secret\n",
    "login= login.append({'user':user,'CLIENT_ID':CLIENT_ID,'CLIENT_SECRET':CLIENT_SECRET}, ignore_index=True)"
   ]
  },
  {
   "cell_type": "code",
   "execution_count": 13,
   "metadata": {
    "ExecuteTime": {
     "end_time": "2020-06-26T03:30:19.841822Z",
     "start_time": "2020-06-26T03:30:19.826195Z"
    }
   },
   "outputs": [],
   "source": [
    "user='mine'\n",
    "CLIENT_ID = 'RGWL5ZMJ5310ADNWYMA4D2IJ1G2LZT44LW5P22XVCKTKL3FY' # your Foursquare ID\n",
    "CLIENT_SECRET = '0ID4LP32Z4NBH4HGE40SX51RECN2LLMINCV1VIEEZXWLLHYL' # your Foursquare Secret\n",
    "login= login.append({'user':user,'CLIENT_ID':CLIENT_ID,'CLIENT_SECRET':CLIENT_SECRET}, ignore_index=True)"
   ]
  },
  {
   "cell_type": "code",
   "execution_count": 14,
   "metadata": {
    "ExecuteTime": {
     "end_time": "2020-06-26T03:30:20.373800Z",
     "start_time": "2020-06-26T03:30:20.358240Z"
    }
   },
   "outputs": [],
   "source": [
    "user='cwong690'\n",
    "CLIENT_ID = 'VHZM10UIGEKH1UMU2RG0E13CGHNYPUFBVQ3QU2DHBO0VA2QF'\n",
    "CLIENT_SECRET = 'JGRJYABMNMV2LRIR3YOVVALEE2UBS5PBXEOIMMBWIT5HWLTU'\n",
    "login= login.append({'user':user,'CLIENT_ID':CLIENT_ID,'CLIENT_SECRET':CLIENT_SECRET}, ignore_index=True)"
   ]
  },
  {
   "cell_type": "code",
   "execution_count": 15,
   "metadata": {
    "ExecuteTime": {
     "end_time": "2020-06-26T03:30:21.043684Z",
     "start_time": "2020-06-26T03:30:21.021547Z"
    }
   },
   "outputs": [],
   "source": [
    "user='axelrk200'\n",
    "CLIENT_ID = '14SHI4R2ROE32BJMMJD3GLX2WDQT4SGSDYD3BDEI1QNJZP02' # your Foursquare ID\n",
    "CLIENT_SECRET = 'SMEDPZUS4VKSLIBH1YWBISDO2424JWUISOF1CIHKSDGO1OLZ' # your Foursquare Secret\n",
    "login= login.append({'user':user,'CLIENT_ID':CLIENT_ID,'CLIENT_SECRET':CLIENT_SECRET}, ignore_index=True)"
   ]
  },
  {
   "cell_type": "code",
   "execution_count": 16,
   "metadata": {
    "ExecuteTime": {
     "end_time": "2020-06-26T03:30:21.592447Z",
     "start_time": "2020-06-26T03:30:21.576780Z"
    }
   },
   "outputs": [],
   "source": [
    "user='sintaba'\n",
    "CLIENT_ID = 'H0RVNORB0NGOYAUCC2DAF24C0JS3CTYKXS5RPKEWM1TJXQWW' # your Foursquare ID\n",
    "CLIENT_SECRET = 'JTCXR4NA4TSVU5WMSO5RA1TO2LPJQOX2I3XDEIVSCBN2TCRS' # your Foursquare Secret\n",
    "login= login.append({'user':user,'CLIENT_ID':CLIENT_ID,'CLIENT_SECRET':CLIENT_SECRET}, ignore_index=True)"
   ]
  },
  {
   "cell_type": "code",
   "execution_count": 18,
   "metadata": {
    "ExecuteTime": {
     "end_time": "2020-06-26T03:30:30.957631Z",
     "start_time": "2020-06-26T03:30:30.942002Z"
    }
   },
   "outputs": [],
   "source": [
    "user='fklap'\n",
    "CLIENT_ID = 'TKZUDAD3BGL5SQUTQJ31AF1RO5FNLE1XB0QP23EKN3H0WLIR' # your Foursquare ID\n",
    "CLIENT_SECRET = 'GGHSHKUOEXMK2E4HHLVZW0THPQODRZKS3LXBU3DMRIJ5HDVP' # your Foursquare Secret\n",
    "login= login.append({'user':user,'CLIENT_ID':CLIENT_ID,'CLIENT_SECRET':CLIENT_SECRET}, ignore_index=True)"
   ]
  },
  {
   "cell_type": "code",
   "execution_count": 19,
   "metadata": {
    "ExecuteTime": {
     "end_time": "2020-06-26T03:30:32.163734Z",
     "start_time": "2020-06-26T03:30:32.141594Z"
    }
   },
   "outputs": [],
   "source": [
    "user='xx'\n",
    "CLIENT_ID ='NBFU034EIQA1KZN1031VY3KNP0ZWRDPTZTER3SJDAEAAN1GZ'\n",
    "CLIENT_SECRET ='L402VNMJWLJHRI1DZBGORHSCORX4PRN3E3O0YXAMJUPSFSQZ'\n",
    "login= login.append({'user':user,'CLIENT_ID':CLIENT_ID,'CLIENT_SECRET':CLIENT_SECRET}, ignore_index=True)"
   ]
  },
  {
   "cell_type": "code",
   "execution_count": 20,
   "metadata": {
    "ExecuteTime": {
     "end_time": "2020-06-26T03:30:33.645523Z",
     "start_time": "2020-06-26T03:30:33.629904Z"
    }
   },
   "outputs": [],
   "source": [
    "user='ramanu'\n",
    "CLIENT_ID = 'THGEG5SVRYF5UPZOHWEEJU2OD1AGNNHSW05C1XHFKTYYFTHW' # your Foursquare ID\n",
    "CLIENT_SECRET = 'DRG5ZUGFNCMJXJKD1GWKTO1KAWIWMFF0ZRJ4MYFSRCL4G2W5' # your Foursquare Secret\n",
    "login= login.append({'user':user,'CLIENT_ID':CLIENT_ID,'CLIENT_SECRET':CLIENT_SECRET}, ignore_index=True)"
   ]
  },
  {
   "cell_type": "code",
   "execution_count": 21,
   "metadata": {
    "ExecuteTime": {
     "end_time": "2020-06-26T03:30:35.404757Z",
     "start_time": "2020-06-26T03:30:35.373469Z"
    }
   },
   "outputs": [],
   "source": [
    "user='icivivi'\n",
    "CLIENT_ID ='E0SIWDOT1WPEOIHYILLTRUHS3ECZL2YBVPASE33Q42RBSTJO'\n",
    "CLIENT_SECRET ='VFYMSNRMVA0CV3MFS55KVZJPAEGOFDIX2BB1G0DYUA0OVD4C'\n",
    "login= login.append({'user':user,'CLIENT_ID':CLIENT_ID,'CLIENT_SECRET':CLIENT_SECRET}, ignore_index=True)"
   ]
  },
  {
   "cell_type": "code",
   "execution_count": 22,
   "metadata": {
    "ExecuteTime": {
     "end_time": "2020-06-26T03:30:36.107118Z",
     "start_time": "2020-06-26T03:30:36.090502Z"
    }
   },
   "outputs": [],
   "source": [
    "user='saura'\n",
    "CLIENT_ID = 'BRZVHSJF1MTUIGTVQYUIXPCGJ45FGZXPK1UUTKR1UWSBN0ST' # your Foursquare ID\n",
    "CLIENT_SECRET = 'VBCPQ0RAC1D2FENSD1KJ2EB1U1GYTKYDLLA0K1JCFUXQ1G4E' # your Foursquare Secret\n",
    "login= login.append({'user':user,'CLIENT_ID':CLIENT_ID,'CLIENT_SECRET':CLIENT_SECRET}, ignore_index=True)"
   ]
  },
  {
   "cell_type": "code",
   "execution_count": 23,
   "metadata": {
    "ExecuteTime": {
     "end_time": "2020-06-26T03:30:37.378840Z",
     "start_time": "2020-06-26T03:30:37.363210Z"
    }
   },
   "outputs": [],
   "source": [
    "user='katia'\n",
    "CLIENT_ID = 'LJZO500UG2WRLMIB3X3TAJLLZVKQURND3DXC3IARUPROJDZF' # your Foursquare ID\n",
    "CLIENT_SECRET = 'Z5NKNMAJWV4JJKKB00PPALKOGREH4NPQYAMRMQOMXBQYAPEW' # your Foursquare Secret\n",
    "login= login.append({'user':user,'CLIENT_ID':CLIENT_ID,'CLIENT_SECRET':CLIENT_SECRET}, ignore_index=True)"
   ]
  },
  {
   "cell_type": "code",
   "execution_count": 25,
   "metadata": {
    "ExecuteTime": {
     "end_time": "2020-06-26T03:31:23.457630Z",
     "start_time": "2020-06-26T03:31:23.442018Z"
    }
   },
   "outputs": [],
   "source": [
    "#login.to_csv('dataset/login_foursquare.csv')"
   ]
  },
  {
   "cell_type": "code",
   "execution_count": null,
   "metadata": {},
   "outputs": [],
   "source": []
  }
 ],
 "metadata": {
  "kernelspec": {
   "display_name": "Python 3",
   "language": "python",
   "name": "python3"
  },
  "language_info": {
   "codemirror_mode": {
    "name": "ipython",
    "version": 3
   },
   "file_extension": ".py",
   "mimetype": "text/x-python",
   "name": "python",
   "nbconvert_exporter": "python",
   "pygments_lexer": "ipython3",
   "version": "3.7.6"
  },
  "toc": {
   "base_numbering": 1,
   "nav_menu": {},
   "number_sections": true,
   "sideBar": true,
   "skip_h1_title": false,
   "title_cell": "Table of Contents",
   "title_sidebar": "Contents",
   "toc_cell": false,
   "toc_position": {},
   "toc_section_display": true,
   "toc_window_display": false
  }
 },
 "nbformat": 4,
 "nbformat_minor": 4
}
